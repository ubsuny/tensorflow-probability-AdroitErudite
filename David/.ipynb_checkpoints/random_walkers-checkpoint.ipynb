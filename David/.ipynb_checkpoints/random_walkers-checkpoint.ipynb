{
 "cells": [
  {
   "cell_type": "markdown",
   "metadata": {},
   "source": [
    "# Random walks\n",
    "\n",
    "Now we will look at [Random walks](https://en.wikipedia.org/wiki/Random_walk) in n dimensions. This will be the first [Markov Chain Monte Carlo (MCMC)](https://en.wikipedia.org/wiki/Markov_chain_Monte_Carlo) that we will utilize. \n",
    "\n",
    "We will keep track of the paths of random walkers and use it to derive the conditions for diffusion in [Brownian motion](https://en.wikipedia.org/wiki/Brownian_motion). \n",
    "\n",
    "\n",
    "The \"choice\" and \"cumsum\" strategy here is adapted from [here](https://medium.com/@ensembledme/random-walks-with-python-8420981bc4bc)"
   ]
  },
  {
   "cell_type": "code",
   "execution_count": null,
   "metadata": {},
   "outputs": [],
   "source": [
    "import numpy as np\n",
    "from numpy.random import default_rng # see https://numpy.org/doc/stable/reference/random/index.html#random-quick-start\n",
    "rng = default_rng()\n",
    "import matplotlib.pyplot as plt"
   ]
  },
  {
   "cell_type": "markdown",
   "metadata": {},
   "source": [
    "### Run the walkers"
   ]
  },
  {
   "cell_type": "code",
   "execution_count": null,
   "metadata": {
    "scrolled": false
   },
   "outputs": [],
   "source": [
    "dims = 1\n",
    "n_walkers = 100\n",
    "n_steps = 5000\n",
    "t = np.arange(n_steps)\n",
    "# Walkers can go in + direction, - direction, or stay still\n",
    "step_set = [-1, 0, 1]\n",
    "# The shape is for \"n_walkers\" taking \"n_steps\" in \"dims\" dimensions.\n",
    "# So, in 1d if there are 10 walkers making 100 steps each,\n",
    "# it will be (10, 100, 1)\n",
    "step_shape = (n_walkers,n_steps,dims)\n",
    "# These are the steps at each stage\n",
    "steps = rng.choice(a=step_set, size=step_shape)\n",
    "# Now we add up the steps for each walker to get the x positions\n",
    "x = steps.cumsum(axis=1)"
   ]
  },
  {
   "cell_type": "markdown",
   "metadata": {},
   "source": [
    "### Plot the $x$ position of the first 10 walkers"
   ]
  },
  {
   "cell_type": "code",
   "execution_count": null,
   "metadata": {},
   "outputs": [],
   "source": [
    "for i in range( min(10,n_walkers) ):\n",
    "    plt.plot( x[i,:,0] )\n",
    "plt.title(\"Path of first 10 walkers\")\n",
    "plt.xlabel(\"steps\")\n",
    "plt.ylabel(\"x position\")"
   ]
  },
  {
   "cell_type": "markdown",
   "metadata": {},
   "source": [
    "### Accumulate statistics\n",
    "\n",
    "Here, we now want to determine the relationship between diffusion and walks. \n",
    "\n",
    "We know from lecture that after the $n$th step, each walker will have position\n",
    "\n",
    "$$\n",
    "x_n = \\sum_{i=1}^n s_i\n",
    "$$\n",
    "\n",
    "where $s_i$ is each walkers' step from the `steps` construct above. The average of $s_i$ is zero because they are uniformly chosen from $(-1,0,1)$. However, the standard deviation for each walker is\n",
    "\n",
    "$$\n",
    "\\left< x_n^2 \\right> = \\left< \\sum_{i=1}^{n} \\sum_{j=1}^{n} s_i s_j \\right>\n",
    "$$\n",
    "\n",
    "$$\n",
    "\\left< x_n^2 \\right> = \\left< \\sum_{i} s_i^2 \\right> + \\left< \\sum_i \\sum_{j \\neq i} s_i s_j \\right>\n",
    "$$\n",
    "\n",
    "If there are $m$ walkers each walking $n$ steps, and the index $k$ iterates over the walkers, then at each step $n$ we have ensemble averages (in 1 dimension):\n",
    "\n",
    "$$\n",
    "\\left< x_n^4 \\right> = \\sum_{k=1}^m \\frac{x_{k,n}^4}{m}\n",
    "$$\n",
    "\n",
    "$$\n",
    "\\left< x_n^2 \\right> = \\sum_{k=1}^m \\frac{x_{k,n}^2}{m}\n",
    "$$\n",
    "\n",
    "The overall diffusion width at the $n$th step, taking these ensemble averages, is therefore\n",
    "\n",
    "$$\n",
    "\\sigma^2_n = \\sqrt{  \\left< x_n^4 \\right> - \\left< x_n^2\\right>^2 }\n",
    "$$"
   ]
  },
  {
   "cell_type": "markdown",
   "metadata": {},
   "source": [
    "### Homework assignment will go here: \n",
    "\n",
    "For 1d, 2d, and 3d:\n",
    "\n",
    "- Calculate and plot $\\sigma^2$ as a function of $n$. \n",
    "- Compute a linear fit of $\\sigma^2$ as a function of $n$, and also plot that. \n",
    "- Compute the diffusion constant $D$ in each of 1d,2d,3d"
   ]
  },
  {
   "cell_type": "code",
   "execution_count": null,
   "metadata": {},
   "outputs": [],
   "source": [
    "# Now get the averages over the walkers\n",
    "x2 = np.average( x**2, axis=0 )\n",
    "x4 = np.average( x**4, axis=0 )\n",
    "sigma2_nd = np.sqrt( x4 - x2**2 )\n",
    "sigma2 = np.sum( sigma2_nd, axis=1 )"
   ]
  },
  {
   "cell_type": "code",
   "execution_count": null,
   "metadata": {},
   "outputs": [],
   "source": [
    "plt.plot( sigma2,  label='Average of walkers' )\n",
    "res = np.polyfit(t, sigma2,1 )\n",
    "plt.plot( t, res[0]*t + res[1], label='Fit, slope=%6.2f' % res[0] )\n",
    "plt.title(r\"$\\sigma^2$ versus number of steps\")\n",
    "plt.xlabel(\"step\")\n",
    "plt.ylabel(r\"$\\sigma^2$\")\n",
    "plt.legend()"
   ]
  },
  {
   "cell_type": "code",
   "execution_count": null,
   "metadata": {},
   "outputs": [],
   "source": [
    "\n"
   ]
  },
  {
   "cell_type": "code",
   "execution_count": null,
   "metadata": {},
   "outputs": [],
   "source": []
  }
 ],
 "metadata": {
  "kernelspec": {
   "display_name": "Python 3",
   "language": "python",
   "name": "python3"
  },
  "language_info": {
   "codemirror_mode": {
    "name": "ipython",
    "version": 3
   },
   "file_extension": ".py",
   "mimetype": "text/x-python",
   "name": "python",
   "nbconvert_exporter": "python",
   "pygments_lexer": "ipython3",
   "version": "3.8.8"
  }
 },
 "nbformat": 4,
 "nbformat_minor": 2
}
