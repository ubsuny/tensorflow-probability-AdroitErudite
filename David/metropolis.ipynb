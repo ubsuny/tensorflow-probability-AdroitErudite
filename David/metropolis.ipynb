{
 "cells": [
  {
   "cell_type": "markdown",
   "metadata": {},
   "source": [
    "# Metropolis algorithm example\n",
    "\n",
    "\n",
    "Here we look at the Metropolis-Hastings algorithm, which is a Markov-Chain Monte Carlo (MCMC) technique. "
   ]
  },
  {
   "cell_type": "markdown",
   "metadata": {},
   "source": [
    "### Swig it, compile it, add it to the path"
   ]
  },
  {
   "cell_type": "code",
   "execution_count": 16,
   "metadata": {},
   "outputs": [
    {
     "name": "stdout",
     "output_type": "stream",
     "text": [
      "running build_ext\n",
      "building '_metropolis' extension\n",
      "aarch64-linux-gnu-gcc -pthread -DNDEBUG -g -fwrapv -O2 -Wall -Wstrict-prototypes -fno-strict-aliasing -Wdate-time -D_FORTIFY_SOURCE=2 -g -fdebug-prefix-map=/build/python2.7-QCkEc0/python2.7-2.7.16=. -fstack-protector-strong -Wformat -Werror=format-security -fPIC -I/usr/include/python2.7 -c swig/metropolis_wrap.cxx -o build/temp.linux-aarch64-2.7/swig/metropolis_wrap.o -I./ -std=c++11 -O3\n",
      "\u001b[01m\u001b[Kcc1plus:\u001b[m\u001b[K \u001b[01;35m\u001b[Kwarning: \u001b[m\u001b[Kcommand line option ‘\u001b[01m\u001b[K-Wstrict-prototypes\u001b[m\u001b[K’ is valid for C/ObjC but not for C++\n",
      "aarch64-linux-gnu-g++ -pthread -shared -Wl,-O1 -Wl,-Bsymbolic-functions -Wl,-z,relro -fno-strict-aliasing -DNDEBUG -g -fwrapv -O2 -Wall -Wstrict-prototypes -Wdate-time -D_FORTIFY_SOURCE=2 -g -fdebug-prefix-map=/build/python2.7-QCkEc0/python2.7-2.7.16=. -fstack-protector-strong -Wformat -Werror=format-security -Wl,-z,relro -Wdate-time -D_FORTIFY_SOURCE=2 -g -fdebug-prefix-map=/build/python2.7-QCkEc0/python2.7-2.7.16=. -fstack-protector-strong -Wformat -Werror=format-security build/temp.linux-aarch64-2.7/swig/metropolis_wrap.o -o /home/pi/Documents/Git/tensorflow-probability-AdroitErudite/David/_metropolis.so\n"
     ]
    }
   ],
   "source": [
    "! swig -c++ -python swig/metropolis.i\n",
    "! python swig/setup_metropolis.py build_ext --inplace"
   ]
  },
  {
   "cell_type": "code",
   "execution_count": 34,
   "metadata": {},
   "outputs": [],
   "source": [
    "import sys\n",
    "import os\n",
    "sys.path.append( os.path.abspath(\".../swig\") )"
   ]
  },
  {
   "cell_type": "code",
   "execution_count": 35,
   "metadata": {},
   "outputs": [
    {
     "data": {
      "text/plain": [
       "['/home/pi/Documents/Git/tensorflow-probability-AdroitErudite/David',\n",
       " '/usr/lib/python37.zip',\n",
       " '/usr/lib/python3.7',\n",
       " '/usr/lib/python3.7/lib-dynload',\n",
       " '',\n",
       " '/home/pi/.local/lib/python3.7/site-packages',\n",
       " '/usr/local/lib/python3.7/dist-packages',\n",
       " '/usr/lib/python3/dist-packages',\n",
       " '/home/pi/.local/lib/python3.7/site-packages/IPython/extensions',\n",
       " '/home/pi/.ipython',\n",
       " '/home/pi/Documents/Git/tensorflow-probability-AdroitErudite/David/swig',\n",
       " '/home/pi/Documents/Git/tensorflow-probability-AdroitErudite/David/swig',\n",
       " '/home/pi/Documents/Git/tensorflow-probability-AdroitErudite/David/swig',\n",
       " '/home/pi/Documents/Git/tensorflow-probability-AdroitErudite/David/swig',\n",
       " '/home/pi/Documents/Git/tensorflow-probability-AdroitErudite/David/swig',\n",
       " '/home/pi/Documents/Git/tensorflow-probability-AdroitErudite/David/swig',\n",
       " '/home/pi/Documents/Git/tensorflow-probability-AdroitErudite/David/swig',\n",
       " '/home/pi/.../swig',\n",
       " '/home/pi/.../swig']"
      ]
     },
     "execution_count": 35,
     "metadata": {},
     "output_type": "execute_result"
    }
   ],
   "source": [
    "sys.path"
   ]
  },
  {
   "cell_type": "code",
   "execution_count": 30,
   "metadata": {},
   "outputs": [
    {
     "ename": "ModuleNotFoundError",
     "evalue": "No module named 'metropolis'",
     "output_type": "error",
     "traceback": [
      "\u001b[0;31m---------------------------------------------------------------------------\u001b[0m",
      "\u001b[0;31mModuleNotFoundError\u001b[0m                       Traceback (most recent call last)",
      "\u001b[0;32m<ipython-input-30-c233ad043b6a>\u001b[0m in \u001b[0;36m<module>\u001b[0;34m\u001b[0m\n\u001b[0;32m----> 1\u001b[0;31m \u001b[0;32mimport\u001b[0m \u001b[0mmetropolis\u001b[0m\u001b[0;34m\u001b[0m\u001b[0;34m\u001b[0m\u001b[0m\n\u001b[0m\u001b[1;32m      2\u001b[0m \u001b[0;32mimport\u001b[0m \u001b[0mnumpy\u001b[0m \u001b[0;32mas\u001b[0m \u001b[0mnp\u001b[0m\u001b[0;34m\u001b[0m\u001b[0;34m\u001b[0m\u001b[0m\n\u001b[1;32m      3\u001b[0m \u001b[0;32mimport\u001b[0m \u001b[0mmatplotlib\u001b[0m\u001b[0;34m.\u001b[0m\u001b[0mpyplot\u001b[0m \u001b[0;32mas\u001b[0m \u001b[0mplt\u001b[0m\u001b[0;34m\u001b[0m\u001b[0;34m\u001b[0m\u001b[0m\n",
      "\u001b[0;31mModuleNotFoundError\u001b[0m: No module named 'metropolis'"
     ]
    }
   ],
   "source": [
    "import metropolis\n",
    "import numpy as np\n",
    "import matplotlib.pyplot as plt"
   ]
  },
  {
   "cell_type": "markdown",
   "metadata": {},
   "source": [
    "## Probability distribution\n",
    "\n",
    "Make the probability distribution equal to a sum of Gaussians. "
   ]
  },
  {
   "cell_type": "code",
   "execution_count": null,
   "metadata": {},
   "outputs": [],
   "source": [
    "A = [1., 1.75]\n",
    "sigma = [1.0, 0.5]\n",
    "center = [0.0, 6.0]\n",
    "g = metropolis.gaussianD( A, sigma, center )\n",
    "\n",
    "gvalsi = []\n",
    "gxvals = np.linspace(-10,10,100)\n",
    "for x in gxvals:\n",
    "    gvalsi.append( g(x) )\n",
    "gvals = np.array(gvalsi)"
   ]
  },
  {
   "cell_type": "code",
   "execution_count": null,
   "metadata": {},
   "outputs": [],
   "source": [
    "plt.plot(gxvals, gvals)\n",
    "plt.show()"
   ]
  },
  {
   "cell_type": "markdown",
   "metadata": {},
   "source": [
    "## Run Metropolis-Hastings"
   ]
  },
  {
   "cell_type": "code",
   "execution_count": null,
   "metadata": {},
   "outputs": [],
   "source": [
    "\n",
    "x0 = 0.0\n",
    "delta = 1.0\n",
    "nskip = 1000\n",
    "\n",
    "m = metropolis.metropolisD( g, x0, delta, nskip, False )\n",
    "xvals = []\n",
    "\n",
    "nmcsteps = 1000\n",
    "for i in range(nmcsteps):\n",
    "    m.monte_carlo_step()\n",
    "    xvals.append( m.get() )\n",
    "    "
   ]
  },
  {
   "cell_type": "markdown",
   "metadata": {},
   "source": [
    "## Plot the time series of the \"walker\""
   ]
  },
  {
   "cell_type": "code",
   "execution_count": null,
   "metadata": {},
   "outputs": [],
   "source": [
    "plt.plot(xvals)"
   ]
  },
  {
   "cell_type": "markdown",
   "metadata": {},
   "source": [
    "## Plot the distribution that MH arrives at"
   ]
  },
  {
   "cell_type": "code",
   "execution_count": null,
   "metadata": {},
   "outputs": [],
   "source": [
    "res = plt.hist( xvals, bins=100, range=(-10,10) )\n",
    "plt.show()"
   ]
  }
 ],
 "metadata": {
  "kernelspec": {
   "display_name": "Python 3",
   "language": "python",
   "name": "python3"
  },
  "language_info": {
   "codemirror_mode": {
    "name": "ipython",
    "version": 3
   },
   "file_extension": ".py",
   "mimetype": "text/x-python",
   "name": "python",
   "nbconvert_exporter": "python",
   "pygments_lexer": "ipython3",
   "version": "3.7.3"
  }
 },
 "nbformat": 4,
 "nbformat_minor": 4
}
